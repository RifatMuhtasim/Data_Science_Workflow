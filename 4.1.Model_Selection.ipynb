{
  "nbformat": 4,
  "nbformat_minor": 0,
  "metadata": {
    "colab": {
      "provenance": [],
      "include_colab_link": true
    },
    "kernelspec": {
      "name": "python3",
      "display_name": "Python 3"
    },
    "language_info": {
      "name": "python"
    }
  },
  "cells": [
    {
      "cell_type": "markdown",
      "metadata": {
        "id": "view-in-github",
        "colab_type": "text"
      },
      "source": [
        "<a href=\"https://colab.research.google.com/github/RifatMuhtasim/Data_Science_Workflow/blob/main/4.1.Model_Selection.ipynb\" target=\"_parent\"><img src=\"https://colab.research.google.com/assets/colab-badge.svg\" alt=\"Open In Colab\"/></a>"
      ]
    },
    {
      "cell_type": "markdown",
      "source": [
        "# 1. Split The Dataset"
      ],
      "metadata": {
        "id": "0_7O32_V1uyY"
      }
    },
    {
      "cell_type": "code",
      "execution_count": null,
      "metadata": {
        "id": "pbwk9rLn1ldR"
      },
      "outputs": [],
      "source": [
        "# For normal dataset\n",
        "from sklearn.model_selection import train_test_split\n",
        "\n",
        "X = df.drop(['label'], axis=\"columns\")\n",
        "y = df['label']\n",
        "X_train, X_val, y_train, y_val = train_test_split(X, y, test_size=0.20)"
      ]
    },
    {
      "cell_type": "code",
      "source": [
        "# For Time Series dataset\n",
        "\n",
        "train_years = list(range(2000, 2013)) # From 2000 to 2012\n",
        "val_years = list(range(2013, 2016)) # From 2013 to 2015\n",
        "\n",
        "train_data = train[train['Year'].isin(train_years)]\n",
        "val_data = train[train['Year'].isin(val_years)]\n",
        "\n",
        "X_train = train_data.drop(['label'], axis=\"columns\")\n",
        "y_train = train_data['label']\n",
        "X_val = val_data.drop(['label'], axis=\"columns\")\n",
        "y_val = val_data['label']"
      ],
      "metadata": {
        "id": "Loml53Jj2Txb"
      },
      "execution_count": null,
      "outputs": []
    },
    {
      "cell_type": "code",
      "source": [
        "# Time Series\n",
        "\n",
        "train = data[:'2020-09-30']\n",
        "val = data['2020-10-01':'2020-10-31']\n",
        "test = data['2020-11-01':]"
      ],
      "metadata": {
        "id": "E8zpn3HlDCdS"
      },
      "execution_count": null,
      "outputs": []
    },
    {
      "cell_type": "code",
      "source": [
        "# Cross Validation for time series (Make Date Column as Index)\n",
        "\n",
        "from sklearn.model_selection import TimeSeriesSplit\n",
        "\n",
        "tscv = TimeSeriesSplit(n_splits=5)\n",
        "for train_index, test_index in tscv.split(data):\n",
        "    train, test = data[train_index], data[test_index]\n",
        "    # Train your model here"
      ],
      "metadata": {
        "id": "8bkKYKL0DMfL"
      },
      "execution_count": null,
      "outputs": []
    },
    {
      "cell_type": "markdown",
      "source": [
        "# 2. Choose Baseline Models\n",
        "- Linear Regression (Regression Problem)\n",
        "- Logistic Regression (Classification Problem)"
      ],
      "metadata": {
        "id": "ONOUSdkB4NBE"
      }
    },
    {
      "cell_type": "markdown",
      "source": [
        "## Linear Regression"
      ],
      "metadata": {
        "id": "TEhA0ON65mI1"
      }
    },
    {
      "cell_type": "code",
      "source": [
        "from sklearn.linear_model import LinearRegression\n",
        "from sklearn.metrics import r2_score, mean_squared_error\n",
        "import math\n",
        "\n",
        "lr_model = LinearRegression()\n",
        "lr_model.fit(X_train, y_train)\n",
        "\n",
        "y_train_pred = lr_model.predict(X_train)\n",
        "y_val_pred = lr_model.predict(X_val)\n",
        "\n",
        "# Calculate R-Squared Score\n",
        "train_r2 = r2_score(y_train, y_train_pred)\n",
        "val_r2 = r2_score(y_val, y_val_pred )\n",
        "\n",
        "# Calculate RMSE\n",
        "train_rmse = math.sqrt(mean_squared_error(y_train, y_train_pred))\n",
        "val_rmse = math.sqrt(mean_squared_error(y_val, y_val_pred))\n",
        "\n",
        "print(\"Linear Regression:\")\n",
        "print(\"Train R-squared:\", train_r2)\n",
        "print(\"Validation R-squared:\", val_r2)\n",
        "print(\"Train RMSE:\", train_rmse)\n",
        "print(\"Validation RMSE:\", val_rmse)"
      ],
      "metadata": {
        "id": "buEnJSw04bda"
      },
      "execution_count": null,
      "outputs": []
    },
    {
      "cell_type": "markdown",
      "source": [
        "# Logistic Regression"
      ],
      "metadata": {
        "id": "fVqhlLwr7gpM"
      }
    },
    {
      "cell_type": "code",
      "source": [
        "from sklearn.linear_model import LogisticRegression\n",
        "from sklearn.metrics import accuracy_score\n",
        "\n",
        "lg_model = LogisticRegression()\n",
        "lg_model.fit(X_trian, y_train)\n",
        "\n",
        "y_train_pred = lg_model.predict(X_train)\n",
        "y_val_pred = lg_model.predict(X_val)\n",
        "\n",
        "# Calculate Accuracy\n",
        "train_accuracy = accuracy_score(y_train, y_train_pred)\n",
        "val_accuracy = accuracy_score(y_val, y_val_pred)\n",
        "\n",
        "print(\"Logistic Regression: \")\n",
        "print(\"Training Accuracy:\", train_accuracy)\n",
        "print(\"Validation Accuracy:\", val_accuracy)"
      ],
      "metadata": {
        "id": "sFu4u82W7iOA"
      },
      "execution_count": null,
      "outputs": []
    }
  ]
}