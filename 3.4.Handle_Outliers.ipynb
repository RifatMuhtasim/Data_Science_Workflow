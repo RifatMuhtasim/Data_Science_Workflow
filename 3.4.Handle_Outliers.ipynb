{
  "nbformat": 4,
  "nbformat_minor": 0,
  "metadata": {
    "colab": {
      "provenance": [],
      "authorship_tag": "ABX9TyMCRxkIZyDczoOKU1oigorG",
      "include_colab_link": true
    },
    "kernelspec": {
      "name": "python3",
      "display_name": "Python 3"
    },
    "language_info": {
      "name": "python"
    }
  },
  "cells": [
    {
      "cell_type": "markdown",
      "metadata": {
        "id": "view-in-github",
        "colab_type": "text"
      },
      "source": [
        "<a href=\"https://colab.research.google.com/github/RifatMuhtasim/Data_Science_Workflow/blob/main/3.4.Handle_Outliers.ipynb\" target=\"_parent\"><img src=\"https://colab.research.google.com/assets/colab-badge.svg\" alt=\"Open In Colab\"/></a>"
      ]
    },
    {
      "cell_type": "markdown",
      "source": [
        "# 1. Identify Outliers"
      ],
      "metadata": {
        "id": "CWe-Mq8L0Vr7"
      }
    },
    {
      "cell_type": "code",
      "execution_count": null,
      "metadata": {
        "id": "VtV4BWKw0S2C"
      },
      "outputs": [],
      "source": [
        "# View outliers using bloxplot\n",
        "fig, axes = plt.subplots(4, 1, figsize=(6,8)) # Rows: 4, Column: 1\n",
        "\n",
        "# Plot boxplots using Seaborn\n",
        "sns.boxplot(data= df, x=\"sepal length (cm)\", ax=axes[0])\n",
        "sns.boxplot(data= df, x=\"sepal width (cm)\", ax=axes[1])\n",
        "sns.boxplot(data= df, x=\"petal length (cm)\", ax=axes[2])\n",
        "sns.boxplot(data= df, x=\"petal width (cm)\", ax=axes[3])\n",
        "\n",
        "plt.tight_layout()\n",
        "plt.show()"
      ]
    },
    {
      "cell_type": "code",
      "source": [
        "# Boxplot For Multiple Columns\n",
        "\n",
        "def Box_plot_multiple_columns(df):\n",
        "    # numerical_cols = df.select_dtypes(include=['float64', 'int64']).columns\n",
        "    numerical_cols = df.select_dtypes(include=['number']).columns\n",
        "    fig, axes = plt.subplots(len(numerical_cols), 1, figsize=(10, 12))\n",
        "\n",
        "    # Plot box plots for each feature\n",
        "    for index, col in enumerate(numerical_cols):\n",
        "        sns.boxplot(data= df, x=col, ax=axes[index])\n",
        "        axes[index].set_title(f'Box Plot of {col.capitalize()}')\n",
        "        axes[index].set_xlabel(col.capitalize())\n",
        "        axes[index].set_ylabel('Value')\n",
        "\n",
        "    plt.tight_layout()\n",
        "    plt.show()\n",
        "\n",
        "\n",
        "Box_plot_multiple_columns(df= df)"
      ],
      "metadata": {
        "id": "EPiSIYb-0gA9"
      },
      "execution_count": null,
      "outputs": []
    },
    {
      "cell_type": "markdown",
      "source": [
        "# 2. Remove Outliers"
      ],
      "metadata": {
        "id": "D0vUXVP401TQ"
      }
    },
    {
      "cell_type": "code",
      "source": [
        "# Remove Outliers using IQR for multiple column\n",
        "\n",
        "def Remove_outliers_using_IQR(df):\n",
        "    outliers_index_list = []\n",
        "\n",
        "    for col in df.columns:\n",
        "        if (df[col].dtypes == \"float\") | (df[col].dtypes == \"int\")  :\n",
        "\n",
        "            Q1 = df[col].quantile(0.25)\n",
        "            Q3 = df[col].quantile(0.75)\n",
        "            IQR = Q3 - Q1\n",
        "            lower_limit = Q1 - 1.5*IQR\n",
        "            upper_limit = Q3 + 1.5*IQR\n",
        "\n",
        "            outlier_index = df[(df[col] < lower_limit) | (df[col] > upper_limit)].index\n",
        "            outliers_index_list.extend(outlier_index.tolist())\n",
        "        else:\n",
        "            continue\n",
        "\n",
        "    unique_outliers_index = list(set(outliers_index_list))\n",
        "    df = df.drop(unique_outliers_index, axis=\"rows\")\n",
        "    print(\"Total Outliers Removed: \",  len(unique_outliers_index))\n",
        "    return df"
      ],
      "metadata": {
        "id": "C6cmxNj10211"
      },
      "execution_count": null,
      "outputs": []
    },
    {
      "cell_type": "code",
      "source": [
        "# Remove Outliers Using Standard Deviation for multiple columns\n",
        "\n",
        "def Remove_outliers_using_STD(df):\n",
        "    outliers_index_list = []\n",
        "\n",
        "    for col in df.columns:\n",
        "        if df[col].dtypes == \"float64\":\n",
        "\n",
        "            lower_limit = df[col].mean() - 3*df[col].std()\n",
        "            upper_limit = df[col].mean() + 3*df[col].std()\n",
        "\n",
        "            outlier_index = df[(df[col] < lower_limit) | (df[col] > upper_limit)].index\n",
        "            outliers_index_list.extend(outlier_index.tolist())\n",
        "        else:\n",
        "            continue\n",
        "\n",
        "    unique_outliers_index = list(set(outliers_index_list))\n",
        "    df = df.drop(unique_outliers_index, axis=\"rows\")\n",
        "    print(\"Total Outliers Removed: \",  len(unique_outliers_index))\n",
        "    return df"
      ],
      "metadata": {
        "id": "CnyiR14c06Po"
      },
      "execution_count": null,
      "outputs": []
    },
    {
      "cell_type": "code",
      "source": [
        "# Remove Specific Outliers using percentile\n",
        "\n",
        "min_threshold, max_threshold = df['column_name'].quantile([0.007, 0.99])\n",
        "new_df = df[(df['column_name'] > min_threshold) & (df['column_name'] < max_threshold)]\n",
        "\n",
        "display(df.sort_values(by=\"column_name\", ascending=True))\n",
        "print(\"df Rows:\", df.shape[0])\n",
        "print(\"Total Rows Removed:\", df.shape[0] - new_df.shape[0])"
      ],
      "metadata": {
        "id": "EygEXyQ508pQ"
      },
      "execution_count": null,
      "outputs": []
    },
    {
      "cell_type": "markdown",
      "source": [
        "## Capping or Winsorization"
      ],
      "metadata": {
        "id": "xBpz9SzE1Ddz"
      }
    },
    {
      "cell_type": "code",
      "source": [
        "# Replace the outliers with the non outliers value\n",
        "\n",
        "lower_limit = df['column_name'].quantile(0.05)\n",
        "upper_limit = df['column_name'].quantile(0.95)\n",
        "\n",
        "df['column_name'] = np.where( df['column_name'] >= upper_limit,\n",
        "                              upper_limit,\n",
        "                              np.where(df['column_name'] <= lower_limit,\n",
        "                              lower_limit,\n",
        "                              df['column_name']))"
      ],
      "metadata": {
        "id": "js-ttiu51Emj"
      },
      "execution_count": null,
      "outputs": []
    }
  ]
}