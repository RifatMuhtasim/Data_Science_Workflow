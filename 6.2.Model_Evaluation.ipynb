{
  "nbformat": 4,
  "nbformat_minor": 0,
  "metadata": {
    "colab": {
      "provenance": [],
      "authorship_tag": "ABX9TyOW0To1HmstE/p0mmvgwEyX",
      "include_colab_link": true
    },
    "kernelspec": {
      "name": "python3",
      "display_name": "Python 3"
    },
    "language_info": {
      "name": "python"
    }
  },
  "cells": [
    {
      "cell_type": "markdown",
      "metadata": {
        "id": "view-in-github",
        "colab_type": "text"
      },
      "source": [
        "<a href=\"https://colab.research.google.com/github/RifatMuhtasim/Data_Science_Workflow/blob/main/6.2.Model_Evaluation.ipynb\" target=\"_parent\"><img src=\"https://colab.research.google.com/assets/colab-badge.svg\" alt=\"Open In Colab\"/></a>"
      ]
    },
    {
      "cell_type": "markdown",
      "source": [
        "# 1. Evaluation on the validation set"
      ],
      "metadata": {
        "id": "KCzhKT7soEzW"
      }
    },
    {
      "cell_type": "code",
      "source": [
        "model = XGBClassifier(n_estimators=100, max_depth=6, learning_rate=0.1)\n",
        "model.fit(X_train, y_train)\n",
        "\n",
        "y_train_pred = xgb.predict(X_train)\n",
        "y_val_pred = xgb.predict(X_val)\n",
        "\n",
        "# Calculate Accuracy\n",
        "train_accuracy = accuracy_score(y_train, y_train_pred)\n",
        "val_accuracy = accuracy_score(y_val, y_val_pred)\n",
        "\n",
        "print(\"XGBoost: \")\n",
        "print(\"Training Accuracy:\", train_accuracy)\n",
        "print(\"Validation Accuracy:\", val_accuracy)"
      ],
      "metadata": {
        "id": "2HpEgz4WoFU1"
      },
      "execution_count": null,
      "outputs": []
    },
    {
      "cell_type": "code",
      "source": [
        "from sklearn.metrics import confusion_matrix, classification_report\n",
        "\n",
        "# Generate the confusion matrix using the true labels (y_test) and the predicted labels (y_pred)\n",
        "cm = confusion_matrix(y_val, y_val_pred)\n",
        "cm"
      ],
      "metadata": {
        "id": "ua9spZh2oxUF"
      },
      "execution_count": null,
      "outputs": []
    },
    {
      "cell_type": "code",
      "source": [
        "sns.heatmap(cm, annot=True, fmt=\"d\")\n",
        "plt.xlabel(\"Predicted Label\")\n",
        "plt.ylabel(\"True Label\")\n",
        "plt.title(\"Confusion Matrix\")\n",
        "plt.show()"
      ],
      "metadata": {
        "id": "5QSM4fcDpPD6"
      },
      "execution_count": null,
      "outputs": []
    },
    {
      "cell_type": "code",
      "source": [
        "# Generate the classification report using the true labels (y_test) and the predicted labels (y_pred)\n",
        "report = classification_report(y_test, y_pred)\n",
        "print(report)"
      ],
      "metadata": {
        "id": "iomhx3UhpTev"
      },
      "execution_count": null,
      "outputs": []
    },
    {
      "cell_type": "markdown",
      "source": [
        "# 2. Final Model Training"
      ],
      "metadata": {
        "id": "pJed2mtql59D"
      }
    },
    {
      "cell_type": "code",
      "source": [
        "def Column_names_ascending(df):\n",
        "    # column names sorted alphabetically in ascending order\n",
        "    column_names_ascending = sorted(df.columns)\n",
        "    return df[column_names_ascending]"
      ],
      "metadata": {
        "id": "MVskOKEhnAN2"
      },
      "execution_count": null,
      "outputs": []
    },
    {
      "cell_type": "code",
      "execution_count": null,
      "metadata": {
        "id": "w9hhAenmjfYC"
      },
      "outputs": [],
      "source": [
        "from xgboost import XGBClassifier\n",
        "\n",
        "X = Column_names_ascending(X)\n",
        "final_model = XGBClassifier(n_estimators=100, max_depth=6, learning_rate=0.1)\n",
        "final_model.fit(X, y)"
      ]
    },
    {
      "cell_type": "markdown",
      "source": [
        "# 3. Evaluate on the Test Data"
      ],
      "metadata": {
        "id": "Thcm2wJKno2z"
      }
    },
    {
      "cell_type": "code",
      "source": [
        "test = Column_names_ascending(test)\n",
        "predictions = final_model.predict(test)\n",
        "test_dataset_with_prediction = pd.concat([test, predictions], axis=\"columns\")"
      ],
      "metadata": {
        "id": "t-htRi27mRHR"
      },
      "execution_count": null,
      "outputs": []
    }
  ]
}