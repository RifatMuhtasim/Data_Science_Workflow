{
  "nbformat": 4,
  "nbformat_minor": 0,
  "metadata": {
    "colab": {
      "provenance": [],
      "authorship_tag": "ABX9TyMdDhEQ08hQQlRDH6SReu+R",
      "include_colab_link": true
    },
    "kernelspec": {
      "name": "python3",
      "display_name": "Python 3"
    },
    "language_info": {
      "name": "python"
    }
  },
  "cells": [
    {
      "cell_type": "markdown",
      "metadata": {
        "id": "view-in-github",
        "colab_type": "text"
      },
      "source": [
        "<a href=\"https://colab.research.google.com/github/RifatMuhtasim/Data_Science_Workflow/blob/main/3.2.Transform_Skewed_Columns.ipynb\" target=\"_parent\"><img src=\"https://colab.research.google.com/assets/colab-badge.svg\" alt=\"Open In Colab\"/></a>"
      ]
    },
    {
      "cell_type": "markdown",
      "source": [
        "# 1. Identify Skewed Columns"
      ],
      "metadata": {
        "id": "G6KzH2NJomLy"
      }
    },
    {
      "cell_type": "code",
      "execution_count": null,
      "metadata": {
        "id": "8rF5do7YoXMh"
      },
      "outputs": [],
      "source": [
        "import scipy.stats as stat\n",
        "from scipy.stats import skew, kurtosis\n",
        "import statsmodels.api as sm\n",
        "import pylab\n",
        "\n",
        "\n",
        "def QQPlot(df, x):\n",
        "    sm.qqplot(df[x], line='45')\n",
        "    print(\"Skew:\", skew(df[x]))\n",
        "    print(\"Kurtosis:\", kurtosis(df[x]))\n",
        "    plt.show()\n",
        "\n",
        "\n",
        "def Diagnostic_plot(df, feature):\n",
        "    plt.figure(figsize=(12, 4))\n",
        "    plt.subplot(1, 2, 1)\n",
        "    sns.histplot(x=df[feature],  kde=True)\n",
        "    plt.subplot(1, 2, 2)\n",
        "    stat.probplot(df[feature], dist=\"norm\", plot = pylab)\n",
        "\n",
        "    print(\"Skew:\", skew(df[feature]))\n",
        "    print(\"Kurtosis:\", kurtosis(df[feature]))\n",
        "    plt.title(feature)\n",
        "    plt.show()"
      ]
    },
    {
      "cell_type": "code",
      "source": [
        "def Identify_skewed_columns(df):\n",
        "    df_copy = df.copy()\n",
        "\n",
        "    def skewed_columns(df, threshold=0.5):\n",
        "        skewed_columns = []\n",
        "        for col in df.columns:\n",
        "            if df[col].dtype in ['float64', 'int64']:\n",
        "                skewness = df[col].skew()\n",
        "                if abs(skewness) > threshold:\n",
        "                    skewed_columns.append((col, skewness))\n",
        "        return skewed_columns\n",
        "\n",
        "\n",
        "    skewed_cols = skewed_columns(df)\n",
        "    print(\"Skewed Columns:\")\n",
        "    for col, skewness in skewed_cols:\n",
        "        print(f\"{col} Skewness = {skewness}\")\n",
        "\n",
        "    skewness_list = []\n",
        "    for col, skewness in skewed_cols:\n",
        "        skewness_list.append(col)\n",
        "    return skewness_list\n",
        "\n",
        "\n",
        "skew_columns = Identify_skewed_columns(df= my_df)"
      ],
      "metadata": {
        "id": "L1p3xbmTor17"
      },
      "execution_count": null,
      "outputs": []
    },
    {
      "cell_type": "code",
      "source": [
        "# Show the skewed Columns\n",
        "\n",
        "for x in skew_columns:\n",
        "    print(\"Columns: \", x)\n",
        "    Diagnostic_plot(df= my_df, feature=x)"
      ],
      "metadata": {
        "id": "S5vJaAUzo33l"
      },
      "execution_count": null,
      "outputs": []
    },
    {
      "cell_type": "markdown",
      "source": [
        "# 2. Handle Skewed Columns"
      ],
      "metadata": {
        "id": "xh6y7UbWpJQY"
      }
    },
    {
      "cell_type": "code",
      "source": [
        "from scipy.stats import skew, boxcox\n",
        "\n",
        "\n",
        "def Find_lowest_skewness(df, columns):\n",
        "    lowest_skewness = {}\n",
        "    for x in columns:\n",
        "        log = abs(skew(np.log(df[x])))\n",
        "        reciprocal = abs(skew(1/(df[x])))\n",
        "        sqrt = abs(skew((df[x])**(1/2)))\n",
        "        exp = abs(skew(np.log(df[x])**(1/1.2)))\n",
        "        # boxcox_trans, _ = boxcox(df[x]+1)\n",
        "        # boxcox_skew = abs(skew(boxcox_trans))\n",
        "\n",
        "        # Find the minimum skewness value and the corresponding transformation\n",
        "        # min_skew = min(log, reciprocal, sqrt, exp, boxcox_skew)\n",
        "        min_skew = min(log, reciprocal, sqrt, exp)\n",
        "\n",
        "        if min_skew == log:\n",
        "            transform = 'log'\n",
        "        elif min_skew == reciprocal:\n",
        "            transform = 'reciprocal'\n",
        "        elif min_skew == sqrt:\n",
        "            transform = 'sqrt'\n",
        "        elif min_skew == exp:\n",
        "            transform = 'exponential'\n",
        "        elif min_skew == boxcox:\n",
        "            transform = 'boxcox'\n",
        "        else:\n",
        "            transform = \"delete\"\n",
        "\n",
        "        lowest_skewness[x] = (min_skew, transform)\n",
        "\n",
        "    return lowest_skewness"
      ],
      "metadata": {
        "id": "o5Di6eKAo5lp"
      },
      "execution_count": null,
      "outputs": []
    },
    {
      "cell_type": "code",
      "source": [
        "result = Find_lowest_skewness(df = my_df, columns= skew_columns)\n",
        "for col, (skewness, transform) in result.items():\n",
        "    print(f\"{col} :- Lowest Skewness = {skewness} (Transform: {transform})\")"
      ],
      "metadata": {
        "id": "Bzvh8LWQpXJ8"
      },
      "execution_count": null,
      "outputs": []
    },
    {
      "cell_type": "markdown",
      "source": [
        "## Transform skewed columns"
      ],
      "metadata": {
        "id": "1Y9JbmLlpjq3"
      }
    },
    {
      "cell_type": "code",
      "source": [
        "# logarithmic transformation\n",
        "my_df['regression_cube_log'] = np.log(my_df['regression_cube'])\n",
        "\n",
        "# reciprocal transformation\n",
        "my_df['regression_cube_reciprocal'] = 1/(my_df['regression_cube'])\n",
        "\n",
        "# square root transformation\n",
        "my_df['regression_cube_sqrt'] = (my_df['regression_cube'])**(1/2)\n",
        "\n",
        "# exponential transformation (more general, you can use any exponent)\n",
        "my_df['regression_cube_exp'] = my_df['regression_cube']**(1/1.2)\n",
        "\n",
        "# boxcox transformation\n",
        "import scipy.stats as stat\n",
        "my_df['regression_cube_boxcox'], _ = stat.boxcox(my_df['regression_cube']+1)"
      ],
      "metadata": {
        "id": "Wyj-0NvYpi2O"
      },
      "execution_count": null,
      "outputs": []
    },
    {
      "cell_type": "code",
      "source": [
        "# Remove columns\n",
        "\n",
        "remove_columns_list = ['B', 'C']\n",
        "df = my_df.drop(remove_columns_list, axis=1)"
      ],
      "metadata": {
        "id": "da7pw_asqRAn"
      },
      "execution_count": null,
      "outputs": []
    }
  ]
}