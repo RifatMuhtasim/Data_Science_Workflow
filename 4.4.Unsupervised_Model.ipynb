{
  "nbformat": 4,
  "nbformat_minor": 0,
  "metadata": {
    "colab": {
      "provenance": [],
      "authorship_tag": "ABX9TyPyGlQf0HKlzvx9Jv8qUixs",
      "include_colab_link": true
    },
    "kernelspec": {
      "name": "python3",
      "display_name": "Python 3"
    },
    "language_info": {
      "name": "python"
    }
  },
  "cells": [
    {
      "cell_type": "markdown",
      "metadata": {
        "id": "view-in-github",
        "colab_type": "text"
      },
      "source": [
        "<a href=\"https://colab.research.google.com/github/RifatMuhtasim/Data_Science_Workflow/blob/main/4.4.Unsupervised_Model.ipynb\" target=\"_parent\"><img src=\"https://colab.research.google.com/assets/colab-badge.svg\" alt=\"Open In Colab\"/></a>"
      ]
    },
    {
      "cell_type": "markdown",
      "source": [
        "# Unsupervised Machine Learning Model\n",
        "Clustering Algorithms\n",
        "1. KMeans Clustring\n",
        "2. Hicrarichal Clustring\n",
        "3. DBSCAN Clustring"
      ],
      "metadata": {
        "id": "xvUwtvQjEgus"
      }
    },
    {
      "cell_type": "markdown",
      "source": [
        "# 1. KMeans Clustering:"
      ],
      "metadata": {
        "id": "r0c0xRVl7gKs"
      }
    },
    {
      "cell_type": "code",
      "execution_count": null,
      "metadata": {
        "id": "mwClQNAFEZU_"
      },
      "outputs": [],
      "source": [
        "# Find K-Value with Elbow Method\n",
        "\n",
        "def Elbow_point(start, last, X):\n",
        "    wcss = []\n",
        "    for k in range(start, last):\n",
        "        kmeans = KMeans(n_clusters=k, init=\"k-means++\")\n",
        "        kmeans.fit(X)\n",
        "        wcss.append(kmeans.inertia_)\n",
        "\n",
        "    plt.plot(range(start, last), wcss)\n",
        "    plt.xticks(range(start, last))\n",
        "    plt.xlabel(\"Number of Cluster\")\n",
        "    plt.ylabel(\"WCSS\")\n",
        "    plt.show()\n",
        "\n",
        "\n",
        "Elbow_point(1, 10, X)"
      ]
    },
    {
      "cell_type": "code",
      "source": [
        "# Find K-Value with KneeLocator\n",
        "\n",
        "!pip install kneed\n",
        "from kneed import KneeLocator\n",
        "\n",
        "def Kneed(start, last, X):\n",
        "    wcss = []\n",
        "    for k in range(start, last):\n",
        "        kmeans_cluster = KMeans(n_clusters=k, init=\"k-means++\")\n",
        "        kmeans_cluster.fit(X)\n",
        "        wcss.append(kmeans_cluster.inertia_)\n",
        "\n",
        "    kl = KneeLocator(range(start, last), wcss, curve=\"convex\", direction=\"decreasing\")\n",
        "    print(\"Clusters:\", kl.elbow)\n",
        "\n",
        "\n",
        "Kneed(1, 10, X)"
      ],
      "metadata": {
        "id": "8PVfYYK57n1j"
      },
      "execution_count": null,
      "outputs": []
    },
    {
      "cell_type": "code",
      "source": [
        "# KMeans Model\n",
        "\n",
        "from sklearn.cluster import KMeans\n",
        "\n",
        "kmeans = KMeans(n_clusters=3, init=\"k-means++\")\n",
        "y_labels = kmeans.fit_predict(X)"
      ],
      "metadata": {
        "id": "MAvfJXFN71qe"
      },
      "execution_count": null,
      "outputs": []
    },
    {
      "cell_type": "markdown",
      "source": [
        "# 2. Hierarichal Clustering:"
      ],
      "metadata": {
        "id": "MjPTcs8_8B1U"
      }
    },
    {
      "cell_type": "code",
      "source": [
        "# Standard Scaling\n",
        "\n",
        "from sklearn.preprocessing import StandardScaler\n",
        "scaler = StandardScaler()\n",
        "df_scaled = scaler.fit_transform(df)"
      ],
      "metadata": {
        "id": "5jyPK5vV8HjR"
      },
      "execution_count": null,
      "outputs": []
    },
    {
      "cell_type": "code",
      "source": [
        "# Make 2D dataset for visualization\n",
        "\n",
        "from sklearn.decomposition import PCA\n",
        "\n",
        "pca = PCA(n_components=2)\n",
        "pca_scaled = pca.fit_transform(df_scaled)"
      ],
      "metadata": {
        "id": "ImGId4N48RUV"
      },
      "execution_count": null,
      "outputs": []
    },
    {
      "cell_type": "code",
      "source": [
        "# Construct Dendogram (Select the Longest line withour vartical line)\n",
        "\n",
        "import scipy.cluster.hierarchy as sc\n",
        "sc.dendrogram(sc.linkage(pca_scaled, method=\"ward\"))\n",
        "\n",
        "plt.title(\"Dendograms\")\n",
        "plt.xlabel(\"Sample Index\")\n",
        "plt.ylabel(\"Eucledian Distance\")\n",
        "plt.show()"
      ],
      "metadata": {
        "id": "wocsKfSu8Y01"
      },
      "execution_count": null,
      "outputs": []
    },
    {
      "cell_type": "code",
      "source": [
        "# Agglomerative Clustering\n",
        "\n",
        "from sklearn.cluster import AgglomerativeClustering\n",
        "\n",
        "cluster = AgglomerativeClustering(n_clusters=2, affinity=\"euclidean\", linkage=\"ward\")\n",
        "cluster.fit(pca_scaled)\n",
        "\n",
        "df['cluster']  = cluster.labels_\n",
        "df.sample(5)"
      ],
      "metadata": {
        "id": "s-6MHQxY8lDF"
      },
      "execution_count": null,
      "outputs": []
    },
    {
      "cell_type": "markdown",
      "source": [
        "# 3. DBSCAN"
      ],
      "metadata": {
        "id": "ZoA3Ri3J8uLX"
      }
    },
    {
      "cell_type": "code",
      "source": [
        "from sklearn.preprocessing import StandardScaler\n",
        "scaler = StandardScaler()\n",
        "\n",
        "X_scaled = scaler.fit_transform(X)\n",
        "X_scaled[:10]"
      ],
      "metadata": {
        "id": "sviRG0Dj8vfE"
      },
      "execution_count": null,
      "outputs": []
    },
    {
      "cell_type": "code",
      "source": [
        "from sklearn.cluster import DBSCAN\n",
        "\n",
        "dbscan = DBSCAN(eps=0.5)\n",
        "dbscan.fit(X_scaled)\n",
        "\n",
        "y_labels = dbscan.labels_\n",
        "y_labels[:10]"
      ],
      "metadata": {
        "id": "he2Y2WIA8xtW"
      },
      "execution_count": null,
      "outputs": []
    },
    {
      "cell_type": "markdown",
      "source": [
        "# Scatter Plot"
      ],
      "metadata": {
        "id": "E8PaOP-J89bG"
      }
    },
    {
      "cell_type": "code",
      "source": [
        "plt.scatter(X[:, 0], X[:, 1], c=_)\n",
        "plt.show()"
      ],
      "metadata": {
        "id": "164ytkj189LG"
      },
      "execution_count": null,
      "outputs": []
    }
  ]
}